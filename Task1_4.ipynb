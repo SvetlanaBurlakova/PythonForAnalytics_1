{
 "cells": [
  {
   "attachments": {},
   "cell_type": "markdown",
   "metadata": {},
   "source": [
    "## 1. «Оформление ноутбука и закрепление функций и генераторов»\n",
    "### 1.4. Даны два списка: Дата покупки и Суммы покупок по датам\n",
    "\n",
    "    ['2021-09-14', '2021-12-15', '2021-09-08', '2021-12-05', '2021-10-09', '2021-09-30', '2021-12-22', '2021-11-29', '2021-12-24', '2021-11-26', '2021-10-27', '2021-12-18', '2021-11-09', '2021-11-23', '2021-09-27', '2021-10-02', '2021-12-27', '2021-09-20', '2021-12-13', '2021-11-01', '2021-11-09', '2021-12-06', '2021-12-08', '2021-10-09', '2021-10-31', '2021-09-30', '2021-11-09', '2021-12-13', '2021-10-26', '2021-12-09']\n",
    "    [1270, 8413, 9028, 3703, 5739, 4095, 295, 4944, 5723, 3701, 4471, 651, 7037, 4274, 6275, 4988, 6930, 2971, 6592, 2004, 2822, 519, 3406, 2732, 5015, 2008, 316, 6333, 5700, 2887]\n",
    "#### Найдите, какая выручка у компании в ноябре. Используйте list comprehensions.\n",
    "    Ответ: 25098\n",
    "#### Найдите выручку компании в зависимости от месяца. Напишите функцию, которая на вход принимает списки с датами и с выручкой, а на выходе вернет словарь, где ключи - это месяцы, а значения - это выручка.\n",
    "    <finction_name>(dates, prices) -> {'09': 25647, '12': 45452, '10': 28645, '11': 25098}"
   ]
  },
  {
   "cell_type": "code",
   "execution_count": 15,
   "metadata": {},
   "outputs": [
    {
     "data": {
      "text/plain": [
       "25098"
      ]
     },
     "execution_count": 15,
     "metadata": {},
     "output_type": "execute_result"
    }
   ],
   "source": [
    "dates = ['2021-09-14', '2021-12-15', '2021-09-08', '2021-12-05', '2021-10-09', '2021-09-30', '2021-12-22', '2021-11-29', \n",
    "        '2021-12-24', '2021-11-26', '2021-10-27', '2021-12-18', '2021-11-09', '2021-11-23', '2021-09-27', '2021-10-02', \n",
    "        '2021-12-27', '2021-09-20', '2021-12-13', '2021-11-01', '2021-11-09', '2021-12-06', '2021-12-08', '2021-10-09', \n",
    "        '2021-10-31', '2021-09-30', '2021-11-09', '2021-12-13', '2021-10-26', '2021-12-09']\n",
    "prices = [1270, 8413, 9028, 3703, 5739, 4095, 295, 4944, 5723, 3701, 4471, 651, 7037, 4274, 6275, \n",
    "           4988, 6930, 2971, 6592, 2004, 2822, 519, 3406, 2732, 5015, 2008, 316, 6333, 5700, 2887]\n",
    "dictSum = dict()\n",
    "for i in range(len(dates)):\n",
    "    if dates[i] not in dictSum:\n",
    "        dictSum[dates[i]] = prices[i]\n",
    "    else:\n",
    "        dictSum[dates[i]] +=prices[i]\n",
    "sumForNovember = sum([v for k,v in dictSum.items() if int(k[5:7])==11])\n",
    "sumForNovember"
   ]
  },
  {
   "cell_type": "code",
   "execution_count": 16,
   "metadata": {},
   "outputs": [
    {
     "data": {
      "text/plain": [
       "{'09': 25647, '12': 45452, '10': 28645, '11': 25098}"
      ]
     },
     "execution_count": 16,
     "metadata": {},
     "output_type": "execute_result"
    }
   ],
   "source": [
    "def salesMonthly(dates, prices):\n",
    "    dictSales = dict()\n",
    "    for i in range(len(dates)):\n",
    "        if dates[i][5:7] in dictSales:\n",
    "            dictSales[dates[i][5:7]] +=prices[i]\n",
    "        else:\n",
    "            dictSales[dates[i][5:7]] =prices[i]\n",
    "    return dictSales\n",
    "dictSales = salesMonthly(dates,prices)\n",
    "dictSales\n"
   ]
  }
 ],
 "metadata": {
  "kernelspec": {
   "display_name": "Python 3",
   "language": "python",
   "name": "python3"
  },
  "language_info": {
   "codemirror_mode": {
    "name": "ipython",
    "version": 3
   },
   "file_extension": ".py",
   "mimetype": "text/x-python",
   "name": "python",
   "nbconvert_exporter": "python",
   "pygments_lexer": "ipython3",
   "version": "3.11.0"
  },
  "orig_nbformat": 4
 },
 "nbformat": 4,
 "nbformat_minor": 2
}
