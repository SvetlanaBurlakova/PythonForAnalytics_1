{
 "cells": [
  {
   "attachments": {},
   "cell_type": "markdown",
   "metadata": {},
   "source": [
    "## 1. «Оформление ноутбука и закрепление функций и генераторов»\n",
    "### 1.3. Дан список с затратами на рекламу. Но в данных есть ошибки, некоторые затраты имеют отрицательную величину. Удалите такие значения из списка и посчитайте суммарные затраты. Используйте list comprehensions.\n",
    "\n",
    "    [-12, 100, 0, 125, -90, 0, 345, 655, -1, 0, 200] -> [100, 0, 125, 0, 345, 655, 0, 200]"
   ]
  },
  {
   "cell_type": "code",
   "execution_count": 4,
   "metadata": {},
   "outputs": [
    {
     "data": {
      "text/plain": [
       "[100, 0, 125, 0, 345, 655, 0, 200]"
      ]
     },
     "execution_count": 4,
     "metadata": {},
     "output_type": "execute_result"
    }
   ],
   "source": [
    "expenses = [-12, 100, 0, 125, -90, 0, 345, 655, -1, 0, 200]\n",
    "expenses = [expense for expense in expenses if expense >= 0]\n",
    "expenses"
   ]
  },
  {
   "cell_type": "code",
   "execution_count": 5,
   "metadata": {},
   "outputs": [
    {
     "data": {
      "text/plain": [
       "1425"
      ]
     },
     "execution_count": 5,
     "metadata": {},
     "output_type": "execute_result"
    }
   ],
   "source": [
    "sum(expenses)"
   ]
  },
  {
   "attachments": {},
   "cell_type": "markdown",
   "metadata": {},
   "source": [
    "## Усложнение. Удалите отрицательные значения из списка, а нулевые значения замените на None\n",
    "    [-12, 100, 0, 125, -90, 0, 345, 655, -1, 0, 200] -> [100, None, 125, None, 345, 655, None, 200]"
   ]
  },
  {
   "cell_type": "code",
   "execution_count": 11,
   "metadata": {},
   "outputs": [
    {
     "data": {
      "text/plain": [
       "[100, None, 125, None, 345, 655, None, 200]"
      ]
     },
     "execution_count": 11,
     "metadata": {},
     "output_type": "execute_result"
    }
   ],
   "source": [
    "expenses = [-12, 100, 0, 125, -90, 0, 345, 655, -1, 0, 200]\n",
    "expenses = [None if expense == 0 else expense for expense in [expense for expense in expenses if expense >= 0]]\n",
    "expenses"
   ]
  }
 ],
 "metadata": {
  "kernelspec": {
   "display_name": "Python 3",
   "language": "python",
   "name": "python3"
  },
  "language_info": {
   "codemirror_mode": {
    "name": "ipython",
    "version": 3
   },
   "file_extension": ".py",
   "mimetype": "text/x-python",
   "name": "python",
   "nbconvert_exporter": "python",
   "pygments_lexer": "ipython3",
   "version": "3.11.0"
  },
  "orig_nbformat": 4
 },
 "nbformat": 4,
 "nbformat_minor": 2
}
